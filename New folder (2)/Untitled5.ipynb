{
 "cells": [
  {
   "cell_type": "code",
   "execution_count": 2,
   "id": "ae14e06c",
   "metadata": {},
   "outputs": [],
   "source": [
    "candidate = \"rock\"\n",
    "\n",
    "list1 = ['rock', 'christan', 'sara']"
   ]
  },
  {
   "cell_type": "code",
   "execution_count": 8,
   "id": "91e9632e",
   "metadata": {},
   "outputs": [
    {
     "name": "stdout",
     "output_type": "stream",
     "text": [
      "['rock', 'christan', 'sara']\n"
     ]
    }
   ],
   "source": [
    "for row in range(len(list1)):\n",
    "    if list1[row] == list1[0]:\n",
    "        print(list1)"
   ]
  },
  {
   "cell_type": "code",
   "execution_count": 9,
   "id": "9fbe93fb",
   "metadata": {},
   "outputs": [],
   "source": [
    "dict1 = {}"
   ]
  },
  {
   "cell_type": "code",
   "execution_count": 12,
   "id": "91aa574f",
   "metadata": {},
   "outputs": [
    {
     "name": "stdout",
     "output_type": "stream",
     "text": [
      "<class 'dict'>\n"
     ]
    }
   ],
   "source": [
    "print(type(dict1))"
   ]
  },
  {
   "cell_type": "code",
   "execution_count": 13,
   "id": "e5779ee1",
   "metadata": {},
   "outputs": [],
   "source": [
    "dict1['1'] = 0"
   ]
  },
  {
   "cell_type": "code",
   "execution_count": 29,
   "id": "e3f6a752",
   "metadata": {},
   "outputs": [],
   "source": [
    "dict1['2'] = 4"
   ]
  },
  {
   "cell_type": "code",
   "execution_count": 32,
   "id": "47f21b33",
   "metadata": {},
   "outputs": [
    {
     "data": {
      "text/plain": [
       "dict_keys(['1', '2'])"
      ]
     },
     "execution_count": 32,
     "metadata": {},
     "output_type": "execute_result"
    }
   ],
   "source": [
    "dict1.keys()"
   ]
  },
  {
   "cell_type": "code",
   "execution_count": 35,
   "id": "1fcbea61",
   "metadata": {},
   "outputs": [
    {
     "data": {
      "text/plain": [
       "{'1': None}"
      ]
     },
     "execution_count": 35,
     "metadata": {},
     "output_type": "execute_result"
    }
   ],
   "source": [
    "dict1.fromkeys('1')"
   ]
  },
  {
   "cell_type": "code",
   "execution_count": null,
   "id": "4369c92f",
   "metadata": {},
   "outputs": [],
   "source": []
  },
  {
   "cell_type": "code",
   "execution_count": 42,
   "id": "898df0d9",
   "metadata": {},
   "outputs": [],
   "source": [
    "dict2 = {}"
   ]
  },
  {
   "cell_type": "code",
   "execution_count": 48,
   "id": "e78db995",
   "metadata": {},
   "outputs": [],
   "source": [
    "for i in range(len(dict1)):\n",
    "    dict2[str(i)] = dict1."
   ]
  },
  {
   "cell_type": "code",
   "execution_count": 49,
   "id": "a7fd9257",
   "metadata": {
    "scrolled": true
   },
   "outputs": [
    {
     "data": {
      "text/plain": [
       "{'0': None, '1': None}"
      ]
     },
     "execution_count": 49,
     "metadata": {},
     "output_type": "execute_result"
    }
   ],
   "source": [
    "dict2"
   ]
  },
  {
   "cell_type": "code",
   "execution_count": 58,
   "id": "5ee5289d",
   "metadata": {},
   "outputs": [
    {
     "name": "stdout",
     "output_type": "stream",
     "text": [
      "0\n",
      "1\n"
     ]
    }
   ],
   "source": [
    "\n",
    "for name in dict2:\n",
    "    print(name)"
   ]
  },
  {
   "cell_type": "code",
   "execution_count": 57,
   "id": "e4ad73f4",
   "metadata": {},
   "outputs": [
    {
     "name": "stdout",
     "output_type": "stream",
     "text": [
      "0\n",
      "None\n",
      "1\n",
      "None\n"
     ]
    }
   ],
   "source": [
    "for u,v in dict2.items():\n",
    "    print(u)\n",
    "    print(v)"
   ]
  },
  {
   "cell_type": "code",
   "execution_count": null,
   "id": "4610ac6e",
   "metadata": {},
   "outputs": [],
   "source": [
    "if(j == candidiate_list[])\n",
    "\n",
    "csv file 1000 entries voters county and candidates"
   ]
  },
  {
   "cell_type": "code",
   "execution_count": null,
   "id": "17d9c6b2",
   "metadata": {},
   "outputs": [],
   "source": [
    "candidate = name\n",
    "if candidate in election data[]:\n",
    "    list1.append()"
   ]
  },
  {
   "cell_type": "code",
   "execution_count": null,
   "id": "75230e9b",
   "metadata": {},
   "outputs": [],
   "source": [
    "1st candidate rock  = 500\n",
    "2nd candiates sam = \n",
    "\n"
   ]
  },
  {
   "cell_type": "code",
   "execution_count": 78,
   "id": "dc067c19",
   "metadata": {},
   "outputs": [],
   "source": [
    "li = ['crax','max','j']\n",
    "k = []\n",
    "h = 'max'"
   ]
  },
  {
   "cell_type": "code",
   "execution_count": 79,
   "id": "71b2e981",
   "metadata": {},
   "outputs": [],
   "source": [
    "if h[] in li:\n",
    "    k.append(m)"
   ]
  },
  {
   "cell_type": "code",
   "execution_count": 80,
   "id": "bb5eed0d",
   "metadata": {},
   "outputs": [
    {
     "data": {
      "text/plain": [
       "['max']"
      ]
     },
     "execution_count": 80,
     "metadata": {},
     "output_type": "execute_result"
    }
   ],
   "source": [
    "k"
   ]
  },
  {
   "cell_type": "code",
   "execution_count": null,
   "id": "e713d1f7",
   "metadata": {},
   "outputs": [],
   "source": [
    "counter += 1\n",
    "\n",
    "dict1[]\n",
    "\n"
   ]
  }
 ],
 "metadata": {
  "kernelspec": {
   "display_name": "Python 3 (ipykernel)",
   "language": "python",
   "name": "python3"
  },
  "language_info": {
   "codemirror_mode": {
    "name": "ipython",
    "version": 3
   },
   "file_extension": ".py",
   "mimetype": "text/x-python",
   "name": "python",
   "nbconvert_exporter": "python",
   "pygments_lexer": "ipython3",
   "version": "3.9.12"
  }
 },
 "nbformat": 4,
 "nbformat_minor": 5
}
