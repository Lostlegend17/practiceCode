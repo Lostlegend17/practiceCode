{
 "cells": [
  {
   "cell_type": "code",
   "execution_count": 2,
   "id": "a29e4988",
   "metadata": {},
   "outputs": [
    {
     "name": "stdout",
     "output_type": "stream",
     "text": [
      "Hello World!\n"
     ]
    }
   ],
   "source": [
    "print(\"Hello World!\")"
   ]
  },
  {
   "cell_type": "code",
   "execution_count": 11,
   "id": "cf847443",
   "metadata": {},
   "outputs": [],
   "source": [
    "def Class(a,b):\n",
    "    print('Class printed' + str(a) + ' ' + str(b))"
   ]
  },
  {
   "cell_type": "code",
   "execution_count": 12,
   "id": "3ff88d68",
   "metadata": {},
   "outputs": [
    {
     "name": "stdout",
     "output_type": "stream",
     "text": [
      "Class printed1 3\n"
     ]
    }
   ],
   "source": [
    "Class(1,3)"
   ]
  },
  {
   "cell_type": "code",
   "execution_count": null,
   "id": "56b3b911",
   "metadata": {},
   "outputs": [],
   "source": []
  },
  {
   "cell_type": "code",
   "execution_count": null,
   "id": "255abf86",
   "metadata": {},
   "outputs": [],
   "source": []
  }
 ],
 "metadata": {
  "kernelspec": {
   "display_name": "Python 3 (ipykernel)",
   "language": "python",
   "name": "python3"
  },
  "language_info": {
   "codemirror_mode": {
    "name": "ipython",
    "version": 3
   },
   "file_extension": ".py",
   "mimetype": "text/x-python",
   "name": "python",
   "nbconvert_exporter": "python",
   "pygments_lexer": "ipython3",
   "version": "3.9.12"
  }
 },
 "nbformat": 4,
 "nbformat_minor": 5
}
