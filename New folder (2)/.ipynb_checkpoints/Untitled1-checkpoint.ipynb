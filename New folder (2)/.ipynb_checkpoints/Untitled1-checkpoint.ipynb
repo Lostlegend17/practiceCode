{
 "cells": [
  {
   "cell_type": "code",
   "execution_count": 31,
   "id": "22ed5c3f",
   "metadata": {},
   "outputs": [
    {
     "data": {
      "text/plain": [
       "\"to print patterns follow this\\n    1. for the outer loop, count the no. of lines\\n    2. for the inner loop, focus on the columns and connect them somehow to the rows\\n    3. print them here used '*' inside the inner for loop\\n    observe symmetry[optional]\\n\""
      ]
     },
     "execution_count": 31,
     "metadata": {},
     "output_type": "execute_result"
    }
   ],
   "source": [
    "'''to print patterns follow this\n",
    "    1. for the outer loop, count the no. of lines\n",
    "    2. for the inner loop, focus on the columns and connect them somehow to the rows\n",
    "    3. print them here used '*' inside the inner for loop\n",
    "    observe symmetry[optional]\n",
    "''' "
   ]
  },
  {
   "cell_type": "code",
   "execution_count": 32,
   "id": "6565de77",
   "metadata": {},
   "outputs": [
    {
     "name": "stdout",
     "output_type": "stream",
     "text": [
      "* * * * * \n",
      "* * * * * \n",
      "* * * * * \n",
      "* * * * * \n",
      "* * * * * \n"
     ]
    }
   ],
   "source": [
    "for i in range(5):\n",
    "    for j in range(5):\n",
    "        print(\"*\", end=' ')\n",
    "    print(end='\\n')"
   ]
  },
  {
   "cell_type": "code",
   "execution_count": 39,
   "id": "e4314f8a",
   "metadata": {},
   "outputs": [
    {
     "name": "stdout",
     "output_type": "stream",
     "text": [
      "Enter the number\n",
      "10\n",
      "* * * * * * * * * * \n",
      "* * * * * * * * * * \n",
      "* * * * * * * * * * \n",
      "* * * * * * * * * * \n",
      "* * * * * * * * * * \n",
      "* * * * * * * * * * \n",
      "* * * * * * * * * * \n",
      "* * * * * * * * * * \n",
      "* * * * * * * * * * \n",
      "* * * * * * * * * * \n"
     ]
    }
   ],
   "source": [
    "# following input method for the above\n",
    "print(\"Enter the number\")\n",
    "\n",
    "n = int(input()) # used int as type cast\n",
    "for i in range(n):\n",
    "    for j in range(n):\n",
    "        print(\"*\", end=' ')\n",
    "    print(end='\\n')"
   ]
  },
  {
   "cell_type": "code",
   "execution_count": 48,
   "id": "9efab544",
   "metadata": {},
   "outputs": [
    {
     "name": "stdout",
     "output_type": "stream",
     "text": [
      "How many times do you want to test\n",
      "2\n",
      "Test case:1\n",
      "3\n",
      "* * * \n",
      "* * * \n",
      "* * * \n",
      "Test case:2\n",
      "5\n",
      "* * * * * \n",
      "* * * * * \n",
      "* * * * * \n",
      "* * * * * \n",
      "* * * * * \n"
     ]
    }
   ],
   "source": [
    "# test case in real life\n",
    "def print1(n):\n",
    "    for i in range(n):\n",
    "        for j in range(n):\n",
    "            print(\"*\", end=' ')\n",
    "        print(end='\\n')\n",
    "\n",
    "print(\"How many times do you want to test\")\n",
    "t = int(input())\n",
    "for i in range(t):\n",
    "    print(\"Test case:\" + str(i+1))\n",
    "    n = int(input())\n",
    "    print1(n)"
   ]
  },
  {
   "cell_type": "code",
   "execution_count": 7,
   "id": "1a84ada0",
   "metadata": {},
   "outputs": [
    {
     "name": "stdout",
     "output_type": "stream",
     "text": [
      "65\n"
     ]
    }
   ],
   "source": []
  },
  {
   "cell_type": "code",
   "execution_count": null,
   "id": "148e11ee",
   "metadata": {},
   "outputs": [],
   "source": []
  }
 ],
 "metadata": {
  "kernelspec": {
   "display_name": "Python 3 (ipykernel)",
   "language": "python",
   "name": "python3"
  },
  "language_info": {
   "codemirror_mode": {
    "name": "ipython",
    "version": 3
   },
   "file_extension": ".py",
   "mimetype": "text/x-python",
   "name": "python",
   "nbconvert_exporter": "python",
   "pygments_lexer": "ipython3",
   "version": "3.9.12"
  }
 },
 "nbformat": 4,
 "nbformat_minor": 5
}
