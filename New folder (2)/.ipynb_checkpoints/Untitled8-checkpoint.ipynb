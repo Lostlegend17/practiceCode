{
 "cells": [
  {
   "cell_type": "code",
   "execution_count": 1,
   "id": "6a886887",
   "metadata": {},
   "outputs": [
    {
     "data": {
      "text/plain": [
       "-13"
      ]
     },
     "execution_count": 1,
     "metadata": {},
     "output_type": "execute_result"
    }
   ],
   "source": [
    "3-3*6+2"
   ]
  },
  {
   "cell_type": "code",
   "execution_count": 2,
   "id": "d72fc7cc",
   "metadata": {},
   "outputs": [
    {
     "data": {
      "text/plain": [
       "18"
      ]
     },
     "execution_count": 2,
     "metadata": {},
     "output_type": "execute_result"
    }
   ],
   "source": [
    "3*6"
   ]
  },
  {
   "cell_type": "code",
   "execution_count": 3,
   "id": "d385b754",
   "metadata": {},
   "outputs": [
    {
     "data": {
      "text/plain": [
       "-15"
      ]
     },
     "execution_count": 3,
     "metadata": {},
     "output_type": "execute_result"
    }
   ],
   "source": [
    "3-18"
   ]
  },
  {
   "cell_type": "code",
   "execution_count": 4,
   "id": "27052a5c",
   "metadata": {},
   "outputs": [
    {
     "data": {
      "text/plain": [
       "-13"
      ]
     },
     "execution_count": 4,
     "metadata": {},
     "output_type": "execute_result"
    }
   ],
   "source": [
    "-15+2"
   ]
  },
  {
   "cell_type": "code",
   "execution_count": 1,
   "id": "528e65cf",
   "metadata": {},
   "outputs": [
    {
     "name": "stdout",
     "output_type": "stream",
     "text": [
      "2.5\n"
     ]
    }
   ],
   "source": [
    "class MathUtils:\n",
    "\n",
    "    @staticmethod\n",
    "    def average(a, b):\n",
    "        return a + b / 2\n",
    "\n",
    "print(MathUtils.average(2, 1))"
   ]
  },
  {
   "cell_type": "code",
   "execution_count": 3,
   "id": "5bae0a90",
   "metadata": {},
   "outputs": [
    {
     "data": {
      "text/plain": [
       "1.5"
      ]
     },
     "execution_count": 3,
     "metadata": {},
     "output_type": "execute_result"
    }
   ],
   "source": [
    "(2+1) /2\n"
   ]
  },
  {
   "cell_type": "code",
   "execution_count": 5,
   "id": "1324ea16",
   "metadata": {},
   "outputs": [],
   "source": [
    "def balanced(p):\n",
    "    stack = []\n",
    "    opening = set({'(','[','{'})\n",
    "    closing = set({')',']','}'})\n",
    "    pairs = dict({\n",
    "        ')':'(',\n",
    "        ']':'[',\n",
    "        '}':'{'\n",
    "    })\n",
    "    \n",
    "    for c in p:\n",
    "        if c in opening:\n",
    "            stack.append(c)\n",
    "        elif c in closing:\n",
    "            if not stack or stack[-1] != pairs[c]:\n",
    "                return False\n",
    "            stack.pop()\n",
    "    return len(stack) == 0"
   ]
  },
  {
   "cell_type": "code",
   "execution_count": 6,
   "id": "c6081ccf",
   "metadata": {},
   "outputs": [
    {
     "ename": "SyntaxError",
     "evalue": "unexpected EOF while parsing (3028014491.py, line 1)",
     "output_type": "error",
     "traceback": [
      "\u001b[1;36m  Input \u001b[1;32mIn [6]\u001b[1;36m\u001b[0m\n\u001b[1;33m    balanced(()\u001b[0m\n\u001b[1;37m               ^\u001b[0m\n\u001b[1;31mSyntaxError\u001b[0m\u001b[1;31m:\u001b[0m unexpected EOF while parsing\n"
     ]
    }
   ],
   "source": [
    "balanced(()"
   ]
  },
  {
   "cell_type": "code",
   "execution_count": 10,
   "id": "298a1cad",
   "metadata": {},
   "outputs": [
    {
     "name": "stdout",
     "output_type": "stream",
     "text": [
      "[1, 0, 0, 0, 0, 0, 0, 0, 0, 0]\n"
     ]
    }
   ],
   "source": [
    "def simulate(entries):\n",
    "    \"\"\"\n",
    "    :param entries: (list(int)) The numerical record files\n",
    "    :returns: (list(int)) The record files after running the malware\n",
    "    \"\"\"\n",
    "    # Write your code here\n",
    "    \n",
    "    length = len(entries)\n",
    "    for i in range(length):\n",
    "        if i+3 < length and entries[i+1] >= entries[i+3]:\n",
    "            entries[i+2] = 0\n",
    "        if i-1 >= 0 and entries[i-1] >= entries[i-1]:\n",
    "            entries[i] = 0\n",
    "    return entries\n",
    "\n",
    "records = [1, 2, 0, 5, 0, 2, 4, 3, 3, 3]\n",
    "print(simulate(records))\n",
    "# Expected output\n",
    "# [1, 0, 0, 5, 0, 0, 0, 3, 3, 0]"
   ]
  },
  {
   "cell_type": "code",
   "execution_count": 18,
   "id": "18aa9502",
   "metadata": {},
   "outputs": [
    {
     "name": "stdout",
     "output_type": "stream",
     "text": [
      "0\n",
      "1\n",
      "2\n",
      "3\n",
      "4\n",
      "5\n",
      "6\n",
      "7\n",
      "8\n",
      "9\n",
      "0\n"
     ]
    }
   ],
   "source": [
    "def simulate(entries):\n",
    "    length = len(entries)\n",
    "    middleIndex = int((length-1)/2)\n",
    "    middle = entries[middleIndex]\n",
    "\n",
    "    if entries[0] or entries[-1] >= middle\n",
    "        \n",
    "\n",
    "    return middle\n",
    "\n",
    "records = [1, 2, 0, 5, 0, 2, 4, 3, 3, 3]\n",
    "result = simulate(records)\n",
    "print(result)\n",
    "# Expected output\n",
    "# [1, 0, 0, 5, 0, 0, 0, 3, 3, 0]\n"
   ]
  },
  {
   "cell_type": "code",
   "execution_count": null,
   "id": "89321507",
   "metadata": {},
   "outputs": [],
   "source": []
  }
 ],
 "metadata": {
  "kernelspec": {
   "display_name": "Python 3 (ipykernel)",
   "language": "python",
   "name": "python3"
  },
  "language_info": {
   "codemirror_mode": {
    "name": "ipython",
    "version": 3
   },
   "file_extension": ".py",
   "mimetype": "text/x-python",
   "name": "python",
   "nbconvert_exporter": "python",
   "pygments_lexer": "ipython3",
   "version": "3.9.12"
  }
 },
 "nbformat": 4,
 "nbformat_minor": 5
}
