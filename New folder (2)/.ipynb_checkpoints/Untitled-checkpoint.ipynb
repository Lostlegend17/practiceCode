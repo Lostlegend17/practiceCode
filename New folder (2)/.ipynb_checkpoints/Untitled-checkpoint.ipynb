{
 "cells": [
  {
   "cell_type": "code",
   "execution_count": 1,
   "id": "1595111f",
   "metadata": {},
   "outputs": [],
   "source": [
    "# import relevant libraries\n",
    "import pandas as pd"
   ]
  },
  {
   "cell_type": "code",
   "execution_count": 4,
   "id": "6fcf8950",
   "metadata": {},
   "outputs": [],
   "source": [
    "#initialize greeting\n",
    "greetings = \"Hi, nice to meet you!\""
   ]
  },
  {
   "cell_type": "code",
   "execution_count": 5,
   "id": "a02bf289",
   "metadata": {},
   "outputs": [
    {
     "name": "stdout",
     "output_type": "stream",
     "text": [
      "Hi, nice to meet you!\n"
     ]
    }
   ],
   "source": [
    "print(greetings)"
   ]
  },
  {
   "cell_type": "code",
   "execution_count": 3,
   "id": "557b52ba",
   "metadata": {},
   "outputs": [],
   "source": [
    "greeting1 = \"Hey\"\n",
    "\n",
    "name1 = \"Christine\"\n",
    "\n",
    "greeting2 = \"Hello\"\n",
    "\n",
    "name2 = \"John\"\n",
    "\n",
    "punctuation = '!'"
   ]
  },
  {
   "cell_type": "code",
   "execution_count": 6,
   "id": "280c793c",
   "metadata": {},
   "outputs": [
    {
     "name": "stdout",
     "output_type": "stream",
     "text": [
      "Hey Christine !\n",
      "Hello John !\n"
     ]
    }
   ],
   "source": [
    "print(greeting1 , name1 , punctuation)\n",
    "print(greeting2 , name2 , punctuation)"
   ]
  },
  {
   "cell_type": "code",
   "execution_count": 7,
   "id": "1fde0067",
   "metadata": {},
   "outputs": [],
   "source": [
    "odd_nums = [-5,-3,-1,1,3,5]"
   ]
  },
  {
   "cell_type": "code",
   "execution_count": 8,
   "id": "1a394a02",
   "metadata": {},
   "outputs": [
    {
     "name": "stdout",
     "output_type": "stream",
     "text": [
      "[-5, -3, -1, 1, 3, 5]\n"
     ]
    }
   ],
   "source": [
    "print(odd_nums)"
   ]
  },
  {
   "cell_type": "code",
   "execution_count": 9,
   "id": "82dec830",
   "metadata": {},
   "outputs": [],
   "source": [
    "(x1,y1) = (5,6)\n",
    "(x2,y2) = (-7,-8)"
   ]
  },
  {
   "cell_type": "code",
   "execution_count": 10,
   "id": "bd94e8eb",
   "metadata": {},
   "outputs": [
    {
     "name": "stdout",
     "output_type": "stream",
     "text": [
      "slope: 1.1666666666666667\n"
     ]
    }
   ],
   "source": [
    "print(\"slope:\" , (y2-y1)/(x2-x1))"
   ]
  },
  {
   "cell_type": "code",
   "execution_count": 11,
   "id": "195095ee",
   "metadata": {},
   "outputs": [],
   "source": [
    "list1 = [1,2,3,4]"
   ]
  },
  {
   "cell_type": "code",
   "execution_count": 18,
   "id": "4c00e1c9",
   "metadata": {},
   "outputs": [
    {
     "data": {
      "text/plain": [
       "list"
      ]
     },
     "execution_count": 18,
     "metadata": {},
     "output_type": "execute_result"
    }
   ],
   "source": [
    "type(list1)"
   ]
  },
  {
   "cell_type": "code",
   "execution_count": 19,
   "id": "5959a88e",
   "metadata": {},
   "outputs": [],
   "source": [
    "import numpy as np"
   ]
  },
  {
   "cell_type": "code",
   "execution_count": 26,
   "id": "9ef7e455",
   "metadata": {},
   "outputs": [],
   "source": [
    "array0 = np.zeros((4,5))"
   ]
  },
  {
   "cell_type": "code",
   "execution_count": 27,
   "id": "856baf83",
   "metadata": {},
   "outputs": [
    {
     "data": {
      "text/plain": [
       "array([[0., 0., 0., 0., 0.],\n",
       "       [0., 0., 0., 0., 0.],\n",
       "       [0., 0., 0., 0., 0.],\n",
       "       [0., 0., 0., 0., 0.]])"
      ]
     },
     "execution_count": 27,
     "metadata": {},
     "output_type": "execute_result"
    }
   ],
   "source": [
    "array0"
   ]
  },
  {
   "cell_type": "code",
   "execution_count": 41,
   "id": "e7b6ccf3",
   "metadata": {},
   "outputs": [
    {
     "data": {
      "text/plain": [
       "array([[0., 0., 0., 0.],\n",
       "       [0., 0., 0., 0.],\n",
       "       [0., 0., 0., 0.],\n",
       "       [0., 0., 0., 0.],\n",
       "       [0., 0., 0., 0.]])"
      ]
     },
     "execution_count": 41,
     "metadata": {},
     "output_type": "execute_result"
    }
   ],
   "source": [
    "array0.reshape((5,4))"
   ]
  },
  {
   "cell_type": "code",
   "execution_count": 1,
   "id": "910d4c0b",
   "metadata": {},
   "outputs": [
    {
     "name": "stdout",
     "output_type": "stream",
     "text": [
      "Five is greater than two\n"
     ]
    }
   ],
   "source": [
    "\n",
    "if 5 > 2:\n",
    "    print(\"Five is greater than two\")"
   ]
  },
  {
   "cell_type": "code",
   "execution_count": 11,
   "id": "1ec3a628",
   "metadata": {},
   "outputs": [
    {
     "data": {
      "text/plain": [
       "False"
      ]
     },
     "execution_count": 11,
     "metadata": {},
     "output_type": "execute_result"
    }
   ],
   "source": [
    "h = 'hello'\n"
   ]
  },
  {
   "cell_type": "code",
   "execution_count": null,
   "id": "a73dda70",
   "metadata": {},
   "outputs": [],
   "source": []
  }
 ],
 "metadata": {
  "kernelspec": {
   "display_name": "Python 3 (ipykernel)",
   "language": "python",
   "name": "python3"
  },
  "language_info": {
   "codemirror_mode": {
    "name": "ipython",
    "version": 3
   },
   "file_extension": ".py",
   "mimetype": "text/x-python",
   "name": "python",
   "nbconvert_exporter": "python",
   "pygments_lexer": "ipython3",
   "version": "3.9.12"
  }
 },
 "nbformat": 4,
 "nbformat_minor": 5
}
