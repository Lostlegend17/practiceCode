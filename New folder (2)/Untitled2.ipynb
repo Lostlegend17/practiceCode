{
 "cells": [
  {
   "cell_type": "code",
   "execution_count": 1,
   "id": "dc402075",
   "metadata": {},
   "outputs": [
    {
     "name": "stdout",
     "output_type": "stream",
     "text": [
      "Fail to reject H0\n"
     ]
    }
   ],
   "source": [
    "from scipy.stats import norm\n",
    "\n",
    "# Given data and significance level (alpha)\n",
    "alpha = 0.05\n",
    "critical_value = norm.ppf(1 - alpha / 2)\n",
    "\n",
    "# Replace ZSTAT with the observed Z value from your sample data\n",
    "ZSTAT = -1.8\n",
    "\n",
    "# Decision rule\n",
    "if abs(ZSTAT) > critical_value:\n",
    "    print(\"Reject H0\")\n",
    "else:\n",
    "    print(\"Fail to reject H0\")\n"
   ]
  },
  {
   "cell_type": "code",
   "execution_count": 4,
   "id": "609141eb",
   "metadata": {},
   "outputs": [
    {
     "name": "stdout",
     "output_type": "stream",
     "text": [
      "Test Statistic: -0.10586105915076897\n"
     ]
    }
   ],
   "source": [
    "import numpy as np\n",
    "\n",
    "# Given data\n",
    "tea_bag_weights = [5.65, 5.42, 5.42, 5.39, 5.51, 5.34, 5.56, 5.46, 5.53, 5.43,\n",
    "                   5.58, 5.41, 5.53, 5.53, 5.55, 5.63, 5.55, 5.45, 5.43, 5.51,\n",
    "                   5.46, 5.38, 5.46, 5.62, 5.52, 5.33, 5.67, 5.28, 5.48, 5.56,\n",
    "                   5.77, 5.56, 5.42, 5.57, 5.56, 5.48, 5.31, 5.51, 5.52, 5.57,\n",
    "                   5.61, 5.44, 5.44, 5.26, 5.56, 5.64, 5.49, 5.55, 5.67, 5.35]\n",
    "\n",
    "# Sample size\n",
    "n = len(tea_bag_weights)\n",
    "\n",
    "# Sample mean\n",
    "sample_mean = np.mean(tea_bag_weights)\n",
    "\n",
    "# Sample standard deviation\n",
    "sample_std = np.std(tea_bag_weights, ddof=1)\n",
    "\n",
    "# Specified value from the null hypothesis\n",
    "mu_0 = 5.5\n",
    "\n",
    "# Calculate the test statistic\n",
    "test_statistic = (sample_mean - mu_0) / (sample_std / np.sqrt(n))\n",
    "\n",
    "print(\"Test Statistic:\", test_statistic)\n"
   ]
  },
  {
   "cell_type": "code",
   "execution_count": 5,
   "id": "f18041a4",
   "metadata": {},
   "outputs": [
    {
     "name": "stdout",
     "output_type": "stream",
     "text": [
      "P-value: 0.9161247868317182\n"
     ]
    }
   ],
   "source": [
    "import numpy as np\n",
    "from scipy.stats import t\n",
    "\n",
    "# Given data\n",
    "tea_bag_weights = [5.65, 5.42, 5.42, 5.39, 5.51, 5.34, 5.56, 5.46, 5.53, 5.43,\n",
    "                   5.58, 5.41, 5.53, 5.53, 5.55, 5.63, 5.55, 5.45, 5.43, 5.51,\n",
    "                   5.46, 5.38, 5.46, 5.62, 5.52, 5.33, 5.67, 5.28, 5.48, 5.56,\n",
    "                   5.77, 5.56, 5.42, 5.57, 5.56, 5.48, 5.31, 5.51, 5.52, 5.57,\n",
    "                   5.61, 5.44, 5.44, 5.26, 5.56, 5.64, 5.49, 5.55, 5.67, 5.35]\n",
    "\n",
    "# Sample size\n",
    "n = len(tea_bag_weights)\n",
    "\n",
    "# Sample mean\n",
    "sample_mean = np.mean(tea_bag_weights)\n",
    "\n",
    "# Sample standard deviation\n",
    "sample_std = np.std(tea_bag_weights, ddof=1)\n",
    "\n",
    "# Specified value from the null hypothesis\n",
    "mu_0 = 5.5\n",
    "\n",
    "# Calculate the test statistic\n",
    "test_statistic = (sample_mean - mu_0) / (sample_std / np.sqrt(n))\n",
    "\n",
    "# Degrees of freedom\n",
    "degrees_of_freedom = n - 1\n",
    "\n",
    "# Two-tailed p-value\n",
    "p_value = 2 * (1 - t.cdf(abs(test_statistic), degrees_of_freedom))\n",
    "\n",
    "print(\"P-value:\", p_value)\n"
   ]
  },
  {
   "cell_type": "code",
   "execution_count": 6,
   "id": "ffbbd8c3",
   "metadata": {},
   "outputs": [
    {
     "name": "stdout",
     "output_type": "stream",
     "text": [
      "95% Confidence Interval: 5.4680269770870025 to 5.528773022913\n"
     ]
    }
   ],
   "source": [
    "import numpy as np\n",
    "from scipy.stats import t\n",
    "\n",
    "# Given data\n",
    "tea_bag_weights = [5.65, 5.42, 5.42, 5.39, 5.51, 5.34, 5.56, 5.46, 5.53, 5.43,\n",
    "                   5.58, 5.41, 5.53, 5.53, 5.55, 5.63, 5.55, 5.45, 5.43, 5.51,\n",
    "                   5.46, 5.38, 5.46, 5.62, 5.52, 5.33, 5.67, 5.28, 5.48, 5.56,\n",
    "                   5.77, 5.56, 5.42, 5.57, 5.56, 5.48, 5.31, 5.51, 5.52, 5.57,\n",
    "                   5.61, 5.44, 5.44, 5.26, 5.56, 5.64, 5.49, 5.55, 5.67, 5.35]\n",
    "\n",
    "# Sample size\n",
    "n = len(tea_bag_weights)\n",
    "\n",
    "# Sample mean\n",
    "sample_mean = np.mean(tea_bag_weights)\n",
    "\n",
    "# Sample standard deviation\n",
    "sample_std = np.std(tea_bag_weights, ddof=1)\n",
    "\n",
    "# Degrees of freedom\n",
    "degrees_of_freedom = n - 1\n",
    "\n",
    "# Calculate the critical t-value for 95% confidence level\n",
    "alpha = 0.05\n",
    "critical_t = t.ppf(1 - alpha / 2, degrees_of_freedom)\n",
    "\n",
    "# Calculate the standard error\n",
    "standard_error = sample_std / np.sqrt(n)\n",
    "\n",
    "# Calculate the margin of error\n",
    "margin_of_error = critical_t * standard_error\n",
    "\n",
    "# Calculate the confidence interval\n",
    "confidence_interval_lower = sample_mean - margin_of_error\n",
    "confidence_interval_upper = sample_mean + margin_of_error\n",
    "\n",
    "print(\"95% Confidence Interval:\", confidence_interval_lower, \"to\", confidence_interval_upper)\n"
   ]
  },
  {
   "cell_type": "code",
   "execution_count": 7,
   "id": "21434ae8",
   "metadata": {},
   "outputs": [
    {
     "data": {
      "text/plain": [
       "0.22738616958962268"
      ]
     },
     "execution_count": 7,
     "metadata": {},
     "output_type": "execute_result"
    }
   ],
   "source": [
    "import numpy as np\n",
    "\n",
    "# Sample data for type A shingles and type B shingles\n",
    "type_a_shingles = np.array([3185, 3218, 3098, 3149, 3153, 3291, 3358, 3176, 3064, 3095, 3153, 3076, 3063, 3060, 3127, 3167, 3157, 3166, 3227, 3153, 3101, 3054, 3200, 3186, 3042, 3131, 3155, 3159, 3065, 3068, 3213, 3099, 3125, 3128, 3171, 3228, 3110, 3208, 3213, 3093, 3055, 3084, 3204, 3243, 3165, 3222, 3177, 3136, 3200, 3196, 3090, 3157, 3057, 3044, 3179, 3213, 3190, 3229, 3077, 3176, 3125, 3156, 3088, 3218, 3160, 3140, 3111, 3047, 3186, 3072, 3070, 3132, 3062, 3232, 3243, 3201, 3135, 3255, 3153, 3110, 3150, 3182, 3096, 3163, 3035, 3087, 3213, 3140, 3178, 3109, 3081, 3083, 3095, 3143, 3196, 3045, 3126, 3184, 3107, 3104, 3236, 3174, 3177, 3165, 3090, 3143, 3172, 3096, 3167, 3234, 3230, 3045, 3207, 3046, 3200, 3095, 3192, 3129, 3115, 3101, 3140, 3108, 3241, 3139, 3186, 3079, 3169, 2969, 2995, 3179, 3104, 3027, 3138, 3191, 3184, 3155, 3195, 3173, 3074, 3145, 3040, 3207, 3089, 3165, 3188, 3084, 3039, 3093, 3080, 3133, 3103, 3182, 3060, 3011, 3009, 3103, 3176, 3088, 3056, 3019, 3119, 3046, 3079, 3048, 3121, 3163, 3097, 3190, 3209, 3119, 3025, 3020, 3152, 3148, 3004, 3058, 3087, 3121, 2991, 2996, 3181, 2991, 3101, 3098, 3137, 3170, 3128, 3148, 3059, 2983, 3020, 3076, 3239, 3123, 3208, 3197, 3148, 3172, 3154, 2976, 3099, 3049, 3080, 3107, 3157, 3182, 3155, 3021, 3094, 3035, 3102, 3016, 3166, 3110, 3038, 2995, 3003, 3152, 3030, 3038, 3106, 3076, 3192, 3173, 3191, 3089, 3179, 3089, 3054, 3156, 3174, 3052, 3133, 3027, 3037, 3201, 3134, 3130, 3145, 3105, 3039, 3051, 3107, 3078, 3031, 3080, 3222, 3145, 3094, 3218, 3170, 3107, 3169, 3118, 3147, 3182, 3048, 3135, 3212, 3236, 3045, 3229, 3090, 3180, 3115, 3186, 3147, 3163, 3153, 3188, 3160, 3235, 3135, 3240, 3113, 3197, 3083, 3025, 3187, 3120, 3023, 3178, 3223, 3208, 3101, 3179, 3175, 3058, 3179, 3070, 3179, 3015, 3195, 3130, 3098, 3055, 3095, 3132, 3183, 3149, 3220, 3032, 3057, 3033, 3193, 3216, 3058, 3056, 3055, 3197, 3070, 3063, 3044, 3159, 3201, 3175, 3200, 3219, 3113, 3113, 3090, 3176, 3252, 3064, 3067, 3129, 3145, 3003, 3108, 3269, 3051, 3117, 3114, 3181, 3172, 3060, 3216, 3219, 3057, 2997, 2984, 3138, 3219, 3083, 3186, 3159, 3122, 3154, 3176, 3028, 3075, 2979, 3092, 3095, 3163, 3100, 3165, 3029, 3166, 3085, 3084, 2980, 3164, 3138, 3070, 2997, 2987])\n",
    "\n",
    "type_b_shingles = np.array([3963, 3490, 3649, 3583, 3685, 3682, 3856, 3732, 3812, 3532, 3752, 3552, 3650, 3477, 3874, 3704, 3546, 3459, 3508, 3670, 3489, 3500, 3630, 3627, 3894, 3820, 3842, 3606, 3880, 3679, 3585, 3777, 3746, 3613, 3796, 3510, 3552, 3915, 3699, 3873, 3746, 3695, 3508, 3571, 3742, 3687, 3631, 3634, 3812, 3764, 3724, 3951, 3853, 3712, 3684, 3569, 3658, 3697, 3520, 3761, 3808, 3861, 3437, 3816, 3484, 3842, 3615, 3784, 3720, 3645, 3645, 3638, 3689, 3925, 3694, 3782, 3602, 3790, 3533, 3520, 3812, 3708, 3440, 3774, 3795, 3768, 3807, 3850, 3814, 3554, 3791, 3578, 3826, 3543, 3824, 3857, 3692, 3520, 3670, 3681, 3794, 3644, 3917, 3638, 3531, 3536, 3755, 3915, 3601, 3665, 3630, 3810, 3643, 3638, 3615, 3772, 3922, 3775, 3911, 3888, 3762, 3559, 3468, 3789, 3789, 3574, 3643, 3681, 3475, 3480, 3953, 3547, 3824, 3621, 3735, 3935, 3623, 3909, 3864, 3612, 3489, 3460, 3677, 3957, 3733, 3947, 3899, 3865, 3956, 3975, 3578, 3727, 3635, 3675, 3816, 3938, 3842, 3882, 3622, 3770, 3634, 3648, 3535, 3862, 3852, 3684, 3591, 3598, 3836, 3591, 3616, 3722, 3659, 3980, 3928, 3898, 3638, 3944, 3739, 3599, 3759, 3557, 3678, 3438, 3456, 3931, 3631, 3851, 3732, 3677, 3560, 3555, 3750, 3559, 3615, 3660, 3894, 3796, 3722, 3999, 3883, 3850, 3818, 3685, 3678, 3733, 3592, 3723, 3792, 3935, 3471, 3870, 3550, 3916, 3633, 3820, 3702, 3657, 3621, 3682, 3713, 3923, 3670, 3796, 3500, 3744, 3577, 3568, 3816, 3634, 3374, 3752, 3759, 3830, 3731, 3810, 3778, 3546, 3745, 3516, 3774, 3521, 3788, 3765, 3666, 3566, 3680, 3709, 3814, 3720, 3909, 3638, 3537, 3472, 3819, 3935, 3599, 3681, 3580, 3762, 3525, 3576, 3481, 3624, 3856, 3893, 3931, 3810, 3686, 3619, 3630, 3909, 3863, 3480, 3545, 3635, 3754, 3453, 3490, 3863, 3577, 3694, 3573, 3747, 3951, 3619, 3815, 3848, 3642, 3423, 3520, 3759, 3957, 3675, 3911, 3837, 3737, 3830, 3921, 3500, 3759, 3599, 3745, 3674, 3810, 3802, 3850, 3538, 3728, 3644, 3740, 3595, 3792, 3656, 3564, 3503, 3512, 3716, 3481, 3446, 3572, 3904, 3848, 3864, 3608, 3952, 3713, 3651, 3810, 3547, 3824, 3621, 3735, 3935, 3623, 3909, 3864, 3612, 3489, 3460, 3677, 3957, 3733, 3947, 3899, 3865, 3956, 3975, 3578, 3727, 3635, 3675, 3816, 3938, 3842, 3882, 3622, 3770, 3634, 3648, 3535, 3862, 3852, 3684, 3591, 3598, 3836, 3591, 3616, 3722, 3659, 3980, 3928, 3898, 3638, 3944, 3739, 3599, 3759, 3557, 3678, 3438, 3456, 3931, 3631, 3851, 3732, 3677, 3560, 3555, 3750, 3559, 3615, 3660, 3894, 3796, 3722, 3999, 3883, 3850, 3818, 3685, 3678, 3733, 3592, 3723, 3792, 3935, 3471, 3870, 3550, 3916, 3633, 3820, 3702, 3657, 3621, 3682, 3713, 3923, 3670, 3796, 3500, 3744, 3577, 3568, 3816, 3634, 3374, 3752, 3759, 3830, 3731, 3810, 3778, 3546, 3745, 3516, 3774, 3521, 3788, 3765, 3666, 3566, 3680, 3709, 3814, 3720, 3909, 3638, 3537, 3472, 3819, 3935, 3599, 3681, 3580, 3762, 3525, 3576, 3481, 3624, 3856, 3893, 3931, 3810, 3686, 3619, 3630, 3909, 3863, 3480, 3545, 3635, 3754, 3453, 3490, 3863, 3577, 3694, 3573, 3747, 3951, 3619, 3815, 3848, 3642, 3423, 3520, 3759, 3957, 3675, 3911, 3837, 3737, 3830, 3921, 3500, 3759, 3599, 3745, 3674, 3810, 3802, 3850, 3538, 3728, 3644, 3740, 3595, 3792, 3656, 3564, 3503, 3512, 3716, 3481, 3446, 3572, 3904, 3848, 3864, 3608, 3952, 3713, 3651, 3810, 3547, 3824, 3621, 3735, 3935, 3623, 3909, 3864, 3612, 3489, 3460, 3677, 3957, 3733, 3947, 3899, 3865, 3956, 3975, 3578, 3727, 3635, 3675, 3816, 3938, 3842, 3882, 3622, 3770, 3634, 3648, 3535, 3862, 3852, 3684, 3591, 3598, 3836, 3591, 3616, 3722, 3659, 3980, 3928, 3898, 3638, 3944, 3739, 3599, 3759, 3557, 3678, 3438, 3456, 3931, 3631, 3851, 3732, 3677, 3560, 3555, 3750, 3559, 3615, 3660, 3894, 3796, 3722, 3999, 3883, 3850, 3818, 3685, 3678, 3733, 3592, 3723, 3792, 3935, 3471, 3870, 3550, 3916, 3633, 3820, 3702, 3657, 3621, 3682, 3713, 3923, 3670, 3796, 3500, 3744, 3577, 3568, 3816, 3634, 3374, 3752, 3759, 3830, 3731, 3810, 3778, 3546, 3745, 3516, 3774, 3521, 3788, 3765, 3666, 3566, 3680, 3709, 3814, 3720, 3909, 3638, 3537, 3472, 3819, 3935, 3599, 3681, 3580, 3762, 3525, 3576, 3481, 3624, 3856, 3893, 3931, 3810, 3686, 3619, 3630, 3909, 3863, 3480, 3545, 3635, 3754, 3453, 3490, 3863, 3577, 3694, 3573, 3747, 3951, 3619, 3815, 3848, 3642, 3423, 3520, 3759, 3957, 3675, 3911, 3837, 3737, 3830, 3921, 3500, 3759, 3599, 3745, 3674, 3810, 3802, 3850, 3538, 3728, 3644, 3740, 3595, 3792])\n",
    "\n",
    "# Calculate the sample mean for type A shingles\n",
    "mean_type_a = np.mean(type_a_shingles)\n",
    "\n",
    "# Calculate the sample mean for type B shingles\n",
    "mean_type_b = np.mean(type_b_shingles)\n",
    "\n",
    "# Calculate the sample variance for type A shingles\n",
    "variance_type_a = np.var(type_a_shingles, ddof=1)\n",
    "\n",
    "# Calculate the sample variance for type B shingles\n",
    "variance_type_b = np.var(type_b_shingles, ddof=1)\n",
    "\n",
    "# Calculate the test statistic (F-value)\n",
    "F_value = variance_type_a / variance_type_b\n",
    "F_value\n"
   ]
  },
  {
   "cell_type": "code",
   "execution_count": 10,
   "id": "e338808e",
   "metadata": {},
   "outputs": [
    {
     "data": {
      "text/plain": [
       "2.0713220431067825e-06"
      ]
     },
     "execution_count": 10,
     "metadata": {},
     "output_type": "execute_result"
    }
   ],
   "source": [
    "import scipy.stats as stats\n",
    "\n",
    "# Degrees of freedom for numerator and denominator\n",
    "df_num = 368 - 1\n",
    "df_denom = 300 - 1\n",
    "\n",
    "# F-value\n",
    "F_value = 1.674\n",
    "\n",
    "# Calculate the p-value\n",
    "p_value = 1 - stats.f.cdf(F_value, df_num, df_denom)\n",
    "p_value\n"
   ]
  },
  {
   "cell_type": "code",
   "execution_count": 12,
   "id": "f521691c",
   "metadata": {},
   "outputs": [
    {
     "data": {
      "text/plain": [
       "2.0713220431067825e-06"
      ]
     },
     "execution_count": 12,
     "metadata": {},
     "output_type": "execute_result"
    }
   ],
   "source": [
    "import scipy.stats as stats\n",
    "\n",
    "# Degrees of freedom for numerator and denominator\n",
    "df_num = 368 - 1\n",
    "df_denom = 300 - 1\n",
    "\n",
    "# F-value\n",
    "F_value = 1.674\n",
    "\n",
    "# Calculate the p-value\n",
    "p_value = 1 - stats.f.cdf(F_value, df_num, df_denom)\n",
    "#p_value = round(p_value, 3)\n",
    "p_value\n"
   ]
  },
  {
   "cell_type": "code",
   "execution_count": 14,
   "id": "812b9cbb",
   "metadata": {},
   "outputs": [
    {
     "name": "stdout",
     "output_type": "stream",
     "text": [
      "Test statistic: -9.474730866166576\n"
     ]
    }
   ],
   "source": [
    "import numpy as np\n",
    "from scipy.stats import ttest_ind\n",
    "\n",
    "# Sample weights of type A and type B shingles (subset of data)\n",
    "weights_type_A = np.array([3185, 3218, 3098, 3149, 3153, 3291, 3358, 3176, 3064, 3095])\n",
    "weights_type_B = np.array([3963, 3490, 3649, 3583, 3685, 3682, 3856, 3732, 3812, 3532])\n",
    "\n",
    "# Calculate sample means and sample standard deviations\n",
    "mean_A = np.mean(weights_type_A)\n",
    "mean_B = np.mean(weights_type_B)\n",
    "std_A = np.std(weights_type_A, ddof=1)  # ddof=1 for unbiased sample standard deviation\n",
    "std_B = np.std(weights_type_B, ddof=1)\n",
    "\n",
    "# Calculate sample sizes\n",
    "n_A = len(weights_type_A)\n",
    "n_B = len(weights_type_B)\n",
    "\n",
    "# Calculate the test statistic for two-sample t-test\n",
    "t_statistic = (mean_A - mean_B) / np.sqrt((std_A**2 / n_A) + (std_B**2 / n_B))\n",
    "\n",
    "print(\"Test statistic:\", t_statistic)\n"
   ]
  },
  {
   "cell_type": "code",
   "execution_count": 15,
   "id": "ea9870ae",
   "metadata": {},
   "outputs": [
    {
     "name": "stdout",
     "output_type": "stream",
     "text": [
      "P-value: 2.035401835369194e-08\n"
     ]
    }
   ],
   "source": [
    "import numpy as np\n",
    "from scipy.stats import ttest_ind\n",
    "\n",
    "# Sample weights of type A and type B shingles (subset of data)\n",
    "weights_type_A = np.array([3185, 3218, 3098, 3149, 3153, 3291, 3358, 3176, 3064, 3095])\n",
    "weights_type_B = np.array([3963, 3490, 3649, 3583, 3685, 3682, 3856, 3732, 3812, 3532])\n",
    "\n",
    "# Perform the two-sample t-test and get the p-value\n",
    "t_statistic, p_value = ttest_ind(weights_type_A, weights_type_B)\n",
    "\n",
    "print(\"P-value:\", p_value)\n"
   ]
  },
  {
   "cell_type": "code",
   "execution_count": 16,
   "id": "460da18f",
   "metadata": {},
   "outputs": [
    {
     "name": "stdout",
     "output_type": "stream",
     "text": [
      "F-statistic: 1.3621917808219177\n"
     ]
    }
   ],
   "source": [
    "import numpy as np\n",
    "\n",
    "# Ratings for traditional cellphone providers and prepaid cellphone service providers\n",
    "ratings_traditional = np.array([89, 88, 79, 78, 76, 73, 73, 70, 67])\n",
    "ratings_prepaid = np.array([87, 85, 84, 80, 78, 76, 76, 75, 74, 70, 70, 66])\n",
    "\n",
    "# Calculate the sample variances\n",
    "variance_traditional = np.var(ratings_traditional, ddof=1)\n",
    "variance_prepaid = np.var(ratings_prepaid, ddof=1)\n",
    "\n",
    "# Determine the larger value for the numerator in the F-statistic\n",
    "if variance_traditional > variance_prepaid:\n",
    "    F_statistic = variance_traditional / variance_prepaid\n",
    "else:\n",
    "    F_statistic = variance_prepaid / variance_traditional\n",
    "\n",
    "print(\"F-statistic:\", F_statistic)\n"
   ]
  },
  {
   "cell_type": "code",
   "execution_count": 18,
   "id": "01d0e36d",
   "metadata": {},
   "outputs": [
    {
     "name": "stdout",
     "output_type": "stream",
     "text": [
      "Critical value: 2.947990318638635\n"
     ]
    }
   ],
   "source": [
    "import scipy.stats as stats\n",
    "\n",
    "# Sample sizes\n",
    "n_A = len(ratings_traditional)\n",
    "n_B = len(ratings_prepaid)\n",
    "\n",
    "# Degrees of freedom for the F-distribution\n",
    "df1 = n_A - 1\n",
    "df2 = n_B - 1\n",
    "\n",
    "# Significance level\n",
    "alpha = 0.05\n",
    "\n",
    "# Calculate the critical value\n",
    "critical_value = stats.f.ppf(1 - alpha, df1, df2)\n",
    "\n",
    "print(\"Critical value:\", critical_value)\n"
   ]
  },
  {
   "cell_type": "code",
   "execution_count": 19,
   "id": "3f8b95bb",
   "metadata": {},
   "outputs": [
    {
     "name": "stdout",
     "output_type": "stream",
     "text": [
      "P-value: 0.9355040266683682\n"
     ]
    }
   ],
   "source": [
    "import numpy as np\n",
    "from scipy.stats import f_oneway\n",
    "\n",
    "# Ratings for traditional cellphone providers and prepaid cellphone service providers\n",
    "ratings_traditional = np.array([89, 88, 79, 78, 76, 73, 73, 70, 67])\n",
    "ratings_prepaid = np.array([87, 85, 84, 80, 78, 76, 76, 75, 74, 70, 70, 66])\n",
    "\n",
    "# Perform F-test and get the p-value\n",
    "_, p_value = f_oneway(ratings_traditional, ratings_prepaid)\n",
    "\n",
    "print(\"P-value:\", p_value)\n"
   ]
  },
  {
   "cell_type": "code",
   "execution_count": 20,
   "id": "04f0912b",
   "metadata": {},
   "outputs": [
    {
     "name": "stdout",
     "output_type": "stream",
     "text": [
      "T-statistic: -inf\n"
     ]
    },
    {
     "name": "stderr",
     "output_type": "stream",
     "text": [
      "C:\\Users\\saisu\\AppData\\Local\\Temp\\ipykernel_23416\\2549691976.py:17: RuntimeWarning: divide by zero encountered in double_scalars\n",
      "  t_statistic = (x1 - x2) / standard_error\n"
     ]
    }
   ],
   "source": [
    "import numpy as np\n",
    "from scipy.stats import t\n",
    "\n",
    "# Sample information\n",
    "n1 = 80\n",
    "x1 = 20\n",
    "n2 = 80\n",
    "x2 = 40\n",
    "\n",
    "# Calculate the pooled standard deviation\n",
    "pooled_std = np.sqrt(((n1 - 1) * np.var(np.full(n1, x1)) + (n2 - 1) * np.var(np.full(n2, x2))) / (n1 + n2 - 2))\n",
    "\n",
    "# Calculate the standard error of the difference in means\n",
    "standard_error = pooled_std * np.sqrt(1/n1 + 1/n2)\n",
    "\n",
    "# Calculate the t-statistic\n",
    "t_statistic = (x1 - x2) / standard_error\n",
    "\n",
    "print(\"T-statistic:\", t_statistic)\n"
   ]
  },
  {
   "cell_type": "code",
   "execution_count": 21,
   "id": "08450457",
   "metadata": {},
   "outputs": [
    {
     "name": "stdout",
     "output_type": "stream",
     "text": [
      "90% Confidence Interval: [-0.37164939 -0.12835061]\n"
     ]
    }
   ],
   "source": [
    "# Sample information\n",
    "n1 = 80\n",
    "x1 = 20\n",
    "n2 = 80\n",
    "x2 = 40\n",
    "\n",
    "# Calculate sample proportions\n",
    "p1 = x1 / n1\n",
    "p2 = x2 / n2\n",
    "\n",
    "# Calculate standard error\n",
    "SE = np.sqrt(p1 * (1 - p1) / n1 + p2 * (1 - p2) / n2)\n",
    "\n",
    "# Calculate the critical value for a 90% confidence level\n",
    "Z_alpha_2 = 1.645\n",
    "\n",
    "# Calculate the confidence interval\n",
    "confidence_interval = (p1 - p2) + np.array([-1, 1]) * Z_alpha_2 * SE\n",
    "\n",
    "print(\"90% Confidence Interval:\", confidence_interval)\n"
   ]
  },
  {
   "cell_type": "code",
   "execution_count": null,
   "id": "2ad25fef",
   "metadata": {},
   "outputs": [],
   "source": []
  }
 ],
 "metadata": {
  "kernelspec": {
   "display_name": "Python 3 (ipykernel)",
   "language": "python",
   "name": "python3"
  },
  "language_info": {
   "codemirror_mode": {
    "name": "ipython",
    "version": 3
   },
   "file_extension": ".py",
   "mimetype": "text/x-python",
   "name": "python",
   "nbconvert_exporter": "python",
   "pygments_lexer": "ipython3",
   "version": "3.9.12"
  }
 },
 "nbformat": 4,
 "nbformat_minor": 5
}
