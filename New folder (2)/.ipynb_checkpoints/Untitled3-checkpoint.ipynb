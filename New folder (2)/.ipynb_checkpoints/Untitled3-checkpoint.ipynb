{
 "cells": [
  {
   "cell_type": "code",
   "execution_count": 7,
   "id": "78591e25",
   "metadata": {},
   "outputs": [],
   "source": [
    "from selenium import webdriver\n",
    "from selenium.webdriver.support.ui import WebDriverWait\n",
    "from selenium.webdriver.support import expected_conditions as EC\n",
    "import undetected_chromedriver as uc\n",
    "from selenium.webdriver.common.by import By\n",
    "from selenium.common import exceptions\n",
    "import time\n",
    "from selenium.webdriver.common.action_chains import ActionChains\n"
   ]
  },
  {
   "cell_type": "code",
   "execution_count": 25,
   "id": "c4e32c66",
   "metadata": {},
   "outputs": [
    {
     "name": "stderr",
     "output_type": "stream",
     "text": [
      "C:\\Users\\saisu\\AppData\\Local\\Temp\\ipykernel_14096\\1300266225.py:3: DeprecationWarning: executable_path has been deprecated, please pass in a Service object\n",
      "  driver = webdriver.Chrome(\"C:/Users/saisu/chromedriver.exe\")\n"
     ]
    },
    {
     "ename": "SessionNotCreatedException",
     "evalue": "Message: session not created: This version of ChromeDriver only supports Chrome version 114\nCurrent browser version is 116.0.5845.111 with binary path C:\\Program Files\\Google\\Chrome\\Application\\chrome.exe\nStacktrace:\nBacktrace:\n\tGetHandleVerifier [0x0106A813+48355]\n\t(No symbol) [0x00FFC4B1]\n\t(No symbol) [0x00F05358]\n\t(No symbol) [0x00F261AC]\n\t(No symbol) [0x00F21EF3]\n\t(No symbol) [0x00F20579]\n\t(No symbol) [0x00F50C55]\n\t(No symbol) [0x00F5093C]\n\t(No symbol) [0x00F4A536]\n\t(No symbol) [0x00F282DC]\n\t(No symbol) [0x00F293DD]\n\tGetHandleVerifier [0x012CAABD+2539405]\n\tGetHandleVerifier [0x0130A78F+2800735]\n\tGetHandleVerifier [0x0130456C+2775612]\n\tGetHandleVerifier [0x010F51E0+616112]\n\t(No symbol) [0x01005F8C]\n\t(No symbol) [0x01002328]\n\t(No symbol) [0x0100240B]\n\t(No symbol) [0x00FF4FF7]\n\tBaseThreadInitThunk [0x761D7D59+25]\n\tRtlInitializeExceptionChain [0x777EB79B+107]\n\tRtlClearBits [0x777EB71F+191]\n",
     "output_type": "error",
     "traceback": [
      "\u001b[1;31m---------------------------------------------------------------------------\u001b[0m",
      "\u001b[1;31mSessionNotCreatedException\u001b[0m                Traceback (most recent call last)",
      "Input \u001b[1;32mIn [25]\u001b[0m, in \u001b[0;36m<cell line: 3>\u001b[1;34m()\u001b[0m\n\u001b[0;32m      1\u001b[0m website \u001b[38;5;241m=\u001b[39m \u001b[38;5;124m\"\u001b[39m\u001b[38;5;124mhttps://www.metmuseum.org/art/collection/search?showOnly=withImage&material=Paintings\u001b[39m\u001b[38;5;124m\"\u001b[39m\n\u001b[0;32m      2\u001b[0m \u001b[38;5;66;03m#driver = uc.Chrome('C:\\Users\\saisu\\chromedriver.exe')\u001b[39;00m\n\u001b[1;32m----> 3\u001b[0m driver \u001b[38;5;241m=\u001b[39m \u001b[43mwebdriver\u001b[49m\u001b[38;5;241;43m.\u001b[39;49m\u001b[43mChrome\u001b[49m\u001b[43m(\u001b[49m\u001b[38;5;124;43m\"\u001b[39;49m\u001b[38;5;124;43mC:/Users/saisu/chromedriver.exe\u001b[39;49m\u001b[38;5;124;43m\"\u001b[39;49m\u001b[43m)\u001b[49m\n",
      "File \u001b[1;32m~\\anaconda3\\lib\\site-packages\\selenium\\webdriver\\chrome\\webdriver.py:69\u001b[0m, in \u001b[0;36mWebDriver.__init__\u001b[1;34m(self, executable_path, port, options, service_args, desired_capabilities, service_log_path, chrome_options, service, keep_alive)\u001b[0m\n\u001b[0;32m     66\u001b[0m \u001b[38;5;28;01mif\u001b[39;00m \u001b[38;5;129;01mnot\u001b[39;00m service:\n\u001b[0;32m     67\u001b[0m     service \u001b[38;5;241m=\u001b[39m Service(executable_path, port, service_args, service_log_path)\n\u001b[1;32m---> 69\u001b[0m \u001b[38;5;28;43msuper\u001b[39;49m\u001b[43m(\u001b[49m\u001b[43m)\u001b[49m\u001b[38;5;241;43m.\u001b[39;49m\u001b[38;5;21;43m__init__\u001b[39;49m\u001b[43m(\u001b[49m\u001b[43mDesiredCapabilities\u001b[49m\u001b[38;5;241;43m.\u001b[39;49m\u001b[43mCHROME\u001b[49m\u001b[43m[\u001b[49m\u001b[38;5;124;43m'\u001b[39;49m\u001b[38;5;124;43mbrowserName\u001b[39;49m\u001b[38;5;124;43m'\u001b[39;49m\u001b[43m]\u001b[49m\u001b[43m,\u001b[49m\u001b[43m \u001b[49m\u001b[38;5;124;43m\"\u001b[39;49m\u001b[38;5;124;43mgoog\u001b[39;49m\u001b[38;5;124;43m\"\u001b[39;49m\u001b[43m,\u001b[49m\n\u001b[0;32m     70\u001b[0m \u001b[43m                 \u001b[49m\u001b[43mport\u001b[49m\u001b[43m,\u001b[49m\u001b[43m \u001b[49m\u001b[43moptions\u001b[49m\u001b[43m,\u001b[49m\n\u001b[0;32m     71\u001b[0m \u001b[43m                 \u001b[49m\u001b[43mservice_args\u001b[49m\u001b[43m,\u001b[49m\u001b[43m \u001b[49m\u001b[43mdesired_capabilities\u001b[49m\u001b[43m,\u001b[49m\n\u001b[0;32m     72\u001b[0m \u001b[43m                 \u001b[49m\u001b[43mservice_log_path\u001b[49m\u001b[43m,\u001b[49m\u001b[43m \u001b[49m\u001b[43mservice\u001b[49m\u001b[43m,\u001b[49m\u001b[43m \u001b[49m\u001b[43mkeep_alive\u001b[49m\u001b[43m)\u001b[49m\n",
      "File \u001b[1;32m~\\anaconda3\\lib\\site-packages\\selenium\\webdriver\\chromium\\webdriver.py:92\u001b[0m, in \u001b[0;36mChromiumDriver.__init__\u001b[1;34m(self, browser_name, vendor_prefix, port, options, service_args, desired_capabilities, service_log_path, service, keep_alive)\u001b[0m\n\u001b[0;32m     89\u001b[0m \u001b[38;5;28mself\u001b[39m\u001b[38;5;241m.\u001b[39mservice\u001b[38;5;241m.\u001b[39mstart()\n\u001b[0;32m     91\u001b[0m \u001b[38;5;28;01mtry\u001b[39;00m:\n\u001b[1;32m---> 92\u001b[0m     \u001b[38;5;28;43msuper\u001b[39;49m\u001b[43m(\u001b[49m\u001b[43m)\u001b[49m\u001b[38;5;241;43m.\u001b[39;49m\u001b[38;5;21;43m__init__\u001b[39;49m\u001b[43m(\u001b[49m\n\u001b[0;32m     93\u001b[0m \u001b[43m        \u001b[49m\u001b[43mcommand_executor\u001b[49m\u001b[38;5;241;43m=\u001b[39;49m\u001b[43mChromiumRemoteConnection\u001b[49m\u001b[43m(\u001b[49m\n\u001b[0;32m     94\u001b[0m \u001b[43m            \u001b[49m\u001b[43mremote_server_addr\u001b[49m\u001b[38;5;241;43m=\u001b[39;49m\u001b[38;5;28;43mself\u001b[39;49m\u001b[38;5;241;43m.\u001b[39;49m\u001b[43mservice\u001b[49m\u001b[38;5;241;43m.\u001b[39;49m\u001b[43mservice_url\u001b[49m\u001b[43m,\u001b[49m\n\u001b[0;32m     95\u001b[0m \u001b[43m            \u001b[49m\u001b[43mbrowser_name\u001b[49m\u001b[38;5;241;43m=\u001b[39;49m\u001b[43mbrowser_name\u001b[49m\u001b[43m,\u001b[49m\u001b[43m \u001b[49m\u001b[43mvendor_prefix\u001b[49m\u001b[38;5;241;43m=\u001b[39;49m\u001b[43mvendor_prefix\u001b[49m\u001b[43m,\u001b[49m\n\u001b[0;32m     96\u001b[0m \u001b[43m            \u001b[49m\u001b[43mkeep_alive\u001b[49m\u001b[38;5;241;43m=\u001b[39;49m\u001b[43mkeep_alive\u001b[49m\u001b[43m,\u001b[49m\u001b[43m \u001b[49m\u001b[43mignore_proxy\u001b[49m\u001b[38;5;241;43m=\u001b[39;49m\u001b[43m_ignore_proxy\u001b[49m\u001b[43m)\u001b[49m\u001b[43m,\u001b[49m\n\u001b[0;32m     97\u001b[0m \u001b[43m        \u001b[49m\u001b[43moptions\u001b[49m\u001b[38;5;241;43m=\u001b[39;49m\u001b[43moptions\u001b[49m\u001b[43m)\u001b[49m\n\u001b[0;32m     98\u001b[0m \u001b[38;5;28;01mexcept\u001b[39;00m \u001b[38;5;167;01mException\u001b[39;00m:\n\u001b[0;32m     99\u001b[0m     \u001b[38;5;28mself\u001b[39m\u001b[38;5;241m.\u001b[39mquit()\n",
      "File \u001b[1;32m~\\anaconda3\\lib\\site-packages\\selenium\\webdriver\\remote\\webdriver.py:272\u001b[0m, in \u001b[0;36mWebDriver.__init__\u001b[1;34m(self, command_executor, desired_capabilities, browser_profile, proxy, keep_alive, file_detector, options)\u001b[0m\n\u001b[0;32m    270\u001b[0m \u001b[38;5;28mself\u001b[39m\u001b[38;5;241m.\u001b[39m_authenticator_id \u001b[38;5;241m=\u001b[39m \u001b[38;5;28;01mNone\u001b[39;00m\n\u001b[0;32m    271\u001b[0m \u001b[38;5;28mself\u001b[39m\u001b[38;5;241m.\u001b[39mstart_client()\n\u001b[1;32m--> 272\u001b[0m \u001b[38;5;28;43mself\u001b[39;49m\u001b[38;5;241;43m.\u001b[39;49m\u001b[43mstart_session\u001b[49m\u001b[43m(\u001b[49m\u001b[43mcapabilities\u001b[49m\u001b[43m,\u001b[49m\u001b[43m \u001b[49m\u001b[43mbrowser_profile\u001b[49m\u001b[43m)\u001b[49m\n",
      "File \u001b[1;32m~\\anaconda3\\lib\\site-packages\\selenium\\webdriver\\remote\\webdriver.py:364\u001b[0m, in \u001b[0;36mWebDriver.start_session\u001b[1;34m(self, capabilities, browser_profile)\u001b[0m\n\u001b[0;32m    362\u001b[0m w3c_caps \u001b[38;5;241m=\u001b[39m _make_w3c_caps(capabilities)\n\u001b[0;32m    363\u001b[0m parameters \u001b[38;5;241m=\u001b[39m {\u001b[38;5;124m\"\u001b[39m\u001b[38;5;124mcapabilities\u001b[39m\u001b[38;5;124m\"\u001b[39m: w3c_caps}\n\u001b[1;32m--> 364\u001b[0m response \u001b[38;5;241m=\u001b[39m \u001b[38;5;28;43mself\u001b[39;49m\u001b[38;5;241;43m.\u001b[39;49m\u001b[43mexecute\u001b[49m\u001b[43m(\u001b[49m\u001b[43mCommand\u001b[49m\u001b[38;5;241;43m.\u001b[39;49m\u001b[43mNEW_SESSION\u001b[49m\u001b[43m,\u001b[49m\u001b[43m \u001b[49m\u001b[43mparameters\u001b[49m\u001b[43m)\u001b[49m\n\u001b[0;32m    365\u001b[0m \u001b[38;5;28;01mif\u001b[39;00m \u001b[38;5;124m'\u001b[39m\u001b[38;5;124msessionId\u001b[39m\u001b[38;5;124m'\u001b[39m \u001b[38;5;129;01mnot\u001b[39;00m \u001b[38;5;129;01min\u001b[39;00m response:\n\u001b[0;32m    366\u001b[0m     response \u001b[38;5;241m=\u001b[39m response[\u001b[38;5;124m'\u001b[39m\u001b[38;5;124mvalue\u001b[39m\u001b[38;5;124m'\u001b[39m]\n",
      "File \u001b[1;32m~\\anaconda3\\lib\\site-packages\\selenium\\webdriver\\remote\\webdriver.py:429\u001b[0m, in \u001b[0;36mWebDriver.execute\u001b[1;34m(self, driver_command, params)\u001b[0m\n\u001b[0;32m    427\u001b[0m response \u001b[38;5;241m=\u001b[39m \u001b[38;5;28mself\u001b[39m\u001b[38;5;241m.\u001b[39mcommand_executor\u001b[38;5;241m.\u001b[39mexecute(driver_command, params)\n\u001b[0;32m    428\u001b[0m \u001b[38;5;28;01mif\u001b[39;00m response:\n\u001b[1;32m--> 429\u001b[0m     \u001b[38;5;28;43mself\u001b[39;49m\u001b[38;5;241;43m.\u001b[39;49m\u001b[43merror_handler\u001b[49m\u001b[38;5;241;43m.\u001b[39;49m\u001b[43mcheck_response\u001b[49m\u001b[43m(\u001b[49m\u001b[43mresponse\u001b[49m\u001b[43m)\u001b[49m\n\u001b[0;32m    430\u001b[0m     response[\u001b[38;5;124m'\u001b[39m\u001b[38;5;124mvalue\u001b[39m\u001b[38;5;124m'\u001b[39m] \u001b[38;5;241m=\u001b[39m \u001b[38;5;28mself\u001b[39m\u001b[38;5;241m.\u001b[39m_unwrap_value(\n\u001b[0;32m    431\u001b[0m         response\u001b[38;5;241m.\u001b[39mget(\u001b[38;5;124m'\u001b[39m\u001b[38;5;124mvalue\u001b[39m\u001b[38;5;124m'\u001b[39m, \u001b[38;5;28;01mNone\u001b[39;00m))\n\u001b[0;32m    432\u001b[0m     \u001b[38;5;28;01mreturn\u001b[39;00m response\n",
      "File \u001b[1;32m~\\anaconda3\\lib\\site-packages\\selenium\\webdriver\\remote\\errorhandler.py:243\u001b[0m, in \u001b[0;36mErrorHandler.check_response\u001b[1;34m(self, response)\u001b[0m\n\u001b[0;32m    241\u001b[0m         alert_text \u001b[38;5;241m=\u001b[39m value[\u001b[38;5;124m'\u001b[39m\u001b[38;5;124malert\u001b[39m\u001b[38;5;124m'\u001b[39m]\u001b[38;5;241m.\u001b[39mget(\u001b[38;5;124m'\u001b[39m\u001b[38;5;124mtext\u001b[39m\u001b[38;5;124m'\u001b[39m)\n\u001b[0;32m    242\u001b[0m     \u001b[38;5;28;01mraise\u001b[39;00m exception_class(message, screen, stacktrace, alert_text)  \u001b[38;5;66;03m# type: ignore[call-arg]  # mypy is not smart enough here\u001b[39;00m\n\u001b[1;32m--> 243\u001b[0m \u001b[38;5;28;01mraise\u001b[39;00m exception_class(message, screen, stacktrace)\n",
      "\u001b[1;31mSessionNotCreatedException\u001b[0m: Message: session not created: This version of ChromeDriver only supports Chrome version 114\nCurrent browser version is 116.0.5845.111 with binary path C:\\Program Files\\Google\\Chrome\\Application\\chrome.exe\nStacktrace:\nBacktrace:\n\tGetHandleVerifier [0x0106A813+48355]\n\t(No symbol) [0x00FFC4B1]\n\t(No symbol) [0x00F05358]\n\t(No symbol) [0x00F261AC]\n\t(No symbol) [0x00F21EF3]\n\t(No symbol) [0x00F20579]\n\t(No symbol) [0x00F50C55]\n\t(No symbol) [0x00F5093C]\n\t(No symbol) [0x00F4A536]\n\t(No symbol) [0x00F282DC]\n\t(No symbol) [0x00F293DD]\n\tGetHandleVerifier [0x012CAABD+2539405]\n\tGetHandleVerifier [0x0130A78F+2800735]\n\tGetHandleVerifier [0x0130456C+2775612]\n\tGetHandleVerifier [0x010F51E0+616112]\n\t(No symbol) [0x01005F8C]\n\t(No symbol) [0x01002328]\n\t(No symbol) [0x0100240B]\n\t(No symbol) [0x00FF4FF7]\n\tBaseThreadInitThunk [0x761D7D59+25]\n\tRtlInitializeExceptionChain [0x777EB79B+107]\n\tRtlClearBits [0x777EB71F+191]\n"
     ]
    }
   ],
   "source": [
    "website = \"https://www.metmuseum.org/art/collection/search?showOnly=withImage&material=Paintings\"\n",
    "#driver = uc.Chrome('C:\\Users\\saisu\\chromedriver.exe')\n",
    "driver = webdriver.Chrome(\"C:/Users/saisu/chromedriver.exe\")"
   ]
  },
  {
   "cell_type": "code",
   "execution_count": null,
   "id": "6cfc2f61",
   "metadata": {},
   "outputs": [],
   "source": [
    "driver.get(website)\n",
    "time.sleep(7)"
   ]
  },
  {
   "cell_type": "code",
   "execution_count": null,
   "id": "37d53652",
   "metadata": {},
   "outputs": [],
   "source": [
    "from selenium import webdriver\n",
    "    \"\\n\",\n",
    "    \"\\n\",\n",
    "    \"import undetected_chromedriver as uc\\n\",\n",
    "    \"from selenium.webdriver.common.by import By\\n\",\n",
    "    \"from selenium.common import exceptions\\n\",\n",
    "    \"import time\\n\",\n",
    "    \"from bs4 import BeautifulSoup\\n\",\n",
    "    \"from selenium.webdriver.common.action_chains import ActionChains\\n\",\n",
    "    \" \\n\",\n",
    "    \" \\n\",\n",
    "    \"website = 'https://www.bet365.com/#/IP/EV15811189682C1'\\n\",\n",
    "    \"driver = uc.Chrome()\\n\",\n",
    "    \"driver.get(website)\\n\",\n",
    "    \"driver.maximize_window()\\n\",\n",
    "    \"time.sleep(7)\\n\","
   ]
  },
  {
   "cell_type": "code",
   "execution_count": 26,
   "id": "86db72fc",
   "metadata": {},
   "outputs": [],
   "source": [
    "from bs4 import BeautifulSoup\n",
    "import requests"
   ]
  },
  {
   "cell_type": "code",
   "execution_count": 27,
   "id": "4e11523d",
   "metadata": {},
   "outputs": [],
   "source": [
    "website = \"https://www.metmuseum.org/art/collection/search?showOnly=withImage&material=Paintings\""
   ]
  },
  {
   "cell_type": "code",
   "execution_count": 29,
   "id": "07c56782",
   "metadata": {},
   "outputs": [],
   "source": [
    "page = requests.get(website)"
   ]
  },
  {
   "cell_type": "code",
   "execution_count": 39,
   "id": "26c3f05e",
   "metadata": {},
   "outputs": [],
   "source": [
    "soup = BeautifulSoup(page.text, 'lxml')"
   ]
  },
  {
   "cell_type": "code",
   "execution_count": 53,
   "id": "3b12b191",
   "metadata": {},
   "outputs": [],
   "source": [
    "div = soup.find_all('a', class_= \"redundant-link_redundantlink__b5TFR\" )"
   ]
  },
  {
   "cell_type": "code",
   "execution_count": 108,
   "id": "64228ebd",
   "metadata": {},
   "outputs": [],
   "source": [
    "href_scrape = []\n",
    "for a in div:\n",
    "    href = a.get(\"href\")\n",
    "    href_strip = href.lstrip(\"/art/collection/search/\")\n",
    "    href_scrape.append(href_strip)"
   ]
  },
  {
   "cell_type": "code",
   "execution_count": 109,
   "id": "a35136c7",
   "metadata": {},
   "outputs": [
    {
     "data": {
      "text/plain": [
       "['11495',\n",
       " '54893',\n",
       " '72892',\n",
       " '485842',\n",
       " '545751',\n",
       " '487951',\n",
       " '15131',\n",
       " '49129',\n",
       " '436981',\n",
       " '436422',\n",
       " '492055',\n",
       " '844400',\n",
       " '888197',\n",
       " '695526',\n",
       " '693948',\n",
       " '487964',\n",
       " '11301',\n",
       " '463602',\n",
       " '484530',\n",
       " '12832',\n",
       " '437392',\n",
       " '232211',\n",
       " '437301',\n",
       " '35990',\n",
       " '11904',\n",
       " '486299',\n",
       " '436487',\n",
       " '499035',\n",
       " '662941',\n",
       " '51428',\n",
       " '466758',\n",
       " '185933',\n",
       " '436961',\n",
       " '54953',\n",
       " '700463',\n",
       " '53533',\n",
       " '440725',\n",
       " '485424',\n",
       " '486049',\n",
       " '486560']"
      ]
     },
     "execution_count": 109,
     "metadata": {},
     "output_type": "execute_result"
    }
   ],
   "source": [
    "href_scrape"
   ]
  },
  {
   "cell_type": "code",
   "execution_count": 132,
   "id": "1a12d582",
   "metadata": {},
   "outputs": [],
   "source": [
    "img_download = []\n",
    "for search in href_scrape:\n",
    "    individual_url = f'https://www.metmuseum.org/art/collection/search/{search}'\n",
    "    individual_page = requests.get(individual_url)\n",
    "    individual_soup = BeautifulSoup(individual_page.text , 'html')\n",
    "    img_list = individual_soup.findAll('img', class_=\"artwork__image js-artwork__image gtm__artwork__image\")\n",
    "    for img_link in img_list:\n",
    "        img_download.append(img_link.get(\"src\"))"
   ]
  },
  {
   "cell_type": "code",
   "execution_count": 136,
   "id": "907ed3c5",
   "metadata": {},
   "outputs": [
    {
     "data": {
      "text/plain": [
       "['https://collectionapi.metmuseum.org/api/collection/v1/iiif/11495/38137/main-image',\n",
       " 'https://collectionapi.metmuseum.org/api/collection/v1/iiif/54893/1323982/main-image',\n",
       " 'https://collectionapi.metmuseum.org/api/collection/v1/iiif/72892/172477/restricted',\n",
       " 'https://collectionapi.metmuseum.org/api/collection/v1/iiif/485842/1006201/restricted',\n",
       " 'https://collectionapi.metmuseum.org/api/collection/v1/iiif/545751/1206392/main-image',\n",
       " 'https://collectionapi.metmuseum.org/api/collection/v1/iiif/487951/998376/restricted',\n",
       " 'https://collectionapi.metmuseum.org/api/collection/v1/iiif/15131/30268/main-image',\n",
       " 'https://collectionapi.metmuseum.org/api/collection/v1/iiif/49129/1987562/main-image',\n",
       " 'https://collectionapi.metmuseum.org/api/collection/v1/iiif/436981/798328/main-image',\n",
       " 'https://collectionapi.metmuseum.org/api/collection/v1/iiif/436422/798193/main-image',\n",
       " 'https://collectionapi.metmuseum.org/api/collection/v1/iiif/492055/992814/restricted',\n",
       " 'https://collectionapi.metmuseum.org/api/collection/v1/iiif/844400/1964186/restricted',\n",
       " 'https://collectionapi.metmuseum.org/api/collection/v1/iiif/888197/2104654/restricted',\n",
       " 'https://collectionapi.metmuseum.org/api/collection/v1/iiif/695526/1628228/main-image',\n",
       " 'https://collectionapi.metmuseum.org/api/collection/v1/iiif/693948/1485803/restricted',\n",
       " 'https://collectionapi.metmuseum.org/api/collection/v1/iiif/487964/2157786/restricted',\n",
       " 'https://collectionapi.metmuseum.org/api/collection/v1/iiif/11301/43751/main-image',\n",
       " 'https://collectionapi.metmuseum.org/api/collection/v1/iiif/463602/951207/main-image',\n",
       " 'https://collectionapi.metmuseum.org/api/collection/v1/iiif/484530/1631289/restricted',\n",
       " 'https://collectionapi.metmuseum.org/api/collection/v1/iiif/12832/36920/restricted',\n",
       " 'https://collectionapi.metmuseum.org/api/collection/v1/iiif/437392/795790/main-image',\n",
       " 'https://collectionapi.metmuseum.org/api/collection/v1/iiif/232211/465002/main-image',\n",
       " 'https://collectionapi.metmuseum.org/api/collection/v1/iiif/437301/796103/main-image',\n",
       " 'https://collectionapi.metmuseum.org/api/collection/v1/iiif/35990/150528/main-image',\n",
       " 'https://collectionapi.metmuseum.org/api/collection/v1/iiif/11904/37409/main-image',\n",
       " 'https://collectionapi.metmuseum.org/api/collection/v1/iiif/486299/996573/restricted',\n",
       " 'https://collectionapi.metmuseum.org/api/collection/v1/iiif/436487/801497/main-image',\n",
       " 'https://collectionapi.metmuseum.org/api/collection/v1/iiif/499035/1018196/restricted',\n",
       " 'https://collectionapi.metmuseum.org/api/collection/v1/iiif/662941/1452239/main-image',\n",
       " 'https://collectionapi.metmuseum.org/api/collection/v1/iiif/51428/163074/main-image',\n",
       " 'https://collectionapi.metmuseum.org/api/collection/v1/iiif/466758/965194/main-image',\n",
       " 'https://collectionapi.metmuseum.org/api/collection/v1/iiif/185933/1381507/main-image',\n",
       " 'https://collectionapi.metmuseum.org/api/collection/v1/iiif/436961/794438/main-image',\n",
       " 'https://collectionapi.metmuseum.org/api/collection/v1/iiif/54953/181368/main-image',\n",
       " 'https://collectionapi.metmuseum.org/api/collection/v1/iiif/700463/1517829/restricted',\n",
       " 'https://collectionapi.metmuseum.org/api/collection/v1/iiif/53533/98944/main-image',\n",
       " 'https://collectionapi.metmuseum.org/api/collection/v1/iiif/440725/800127/main-image',\n",
       " 'https://collectionapi.metmuseum.org/api/collection/v1/iiif/485424/1630710/thumbnail',\n",
       " 'https://collectionapi.metmuseum.org/api/collection/v1/iiif/486049/1005573/thumbnail',\n",
       " 'https://collectionapi.metmuseum.org/api/collection/v1/iiif/486560/1005113/restricted']"
      ]
     },
     "execution_count": 136,
     "metadata": {},
     "output_type": "execute_result"
    }
   ],
   "source": []
  },
  {
   "cell_type": "code",
   "execution_count": 137,
   "id": "8a01afa8",
   "metadata": {},
   "outputs": [
    {
     "data": {
      "text/plain": [
       "40"
      ]
     },
     "execution_count": 137,
     "metadata": {},
     "output_type": "execute_result"
    }
   ],
   "source": []
  },
  {
   "cell_type": "code",
   "execution_count": 139,
   "id": "1123d156",
   "metadata": {},
   "outputs": [],
   "source": [
    "i_url = \"https://www.metmuseum.org/art/collection/search/54893\"\n",
    "individual_page = requests.get(i_url)\n",
    "individual_soup = BeautifulSoup(individual_page.text , 'html')"
   ]
  },
  {
   "cell_type": "code",
   "execution_count": 318,
   "id": "73f3bf16",
   "metadata": {},
   "outputs": [],
   "source": [
    "span_label = individual_soup.findAll('span', class_=\"artwork-tombstone--label\")\n",
    "span_value = individual_soup.findAll('span', class_=\"artwork-tombstone--value\")"
   ]
  },
  {
   "cell_type": "code",
   "execution_count": 319,
   "id": "70af66cf",
   "metadata": {},
   "outputs": [
    {
     "name": "stdout",
     "output_type": "stream",
     "text": [
      "{'': '楊柳観音菩薩像 (Yōryū Kannon Bosatsu zō)'}\n",
      "{'': '楊柳観音菩薩像 (Yōryū Kannon Bosatsu zō)', 'Title:': 'The Bodhisattva Willow Kannon (Avalokiteshvara)'}\n",
      "{'': '楊柳観音菩薩像 (Yōryū Kannon Bosatsu zō)', 'Title:': 'The Bodhisattva Willow Kannon (Avalokiteshvara)', 'Artist:': 'Style of Wu Daozi (Chinese, 689–after 755)'}\n",
      "{'': '楊柳観音菩薩像 (Yōryū Kannon Bosatsu zō)', 'Title:': 'The Bodhisattva Willow Kannon (Avalokiteshvara)', 'Artist:': 'Style of Wu Daozi (Chinese, 689–after 755)', 'Period:': 'Meiji period (1868–1912)'}\n",
      "{'': '楊柳観音菩薩像 (Yōryū Kannon Bosatsu zō)', 'Title:': 'The Bodhisattva Willow Kannon (Avalokiteshvara)', 'Artist:': 'Style of Wu Daozi (Chinese, 689–after 755)', 'Period:': 'Meiji period (1868–1912)', 'Date:': 'late 19th century'}\n",
      "{'': '楊柳観音菩薩像 (Yōryū Kannon Bosatsu zō)', 'Title:': 'The Bodhisattva Willow Kannon (Avalokiteshvara)', 'Artist:': 'Style of Wu Daozi (Chinese, 689–after 755)', 'Period:': 'Meiji period (1868–1912)', 'Date:': 'late 19th century', 'Culture:': 'Japan'}\n",
      "{'': '楊柳観音菩薩像 (Yōryū Kannon Bosatsu zō)', 'Title:': 'The Bodhisattva Willow Kannon (Avalokiteshvara)', 'Artist:': 'Style of Wu Daozi (Chinese, 689–after 755)', 'Period:': 'Meiji period (1868–1912)', 'Date:': 'late 19th century', 'Culture:': 'Japan', 'Medium:': 'Hanging scroll; ink and color on silk'}\n",
      "{'': '楊柳観音菩薩像 (Yōryū Kannon Bosatsu zō)', 'Title:': 'The Bodhisattva Willow Kannon (Avalokiteshvara)', 'Artist:': 'Style of Wu Daozi (Chinese, 689–after 755)', 'Period:': 'Meiji period (1868–1912)', 'Date:': 'late 19th century', 'Culture:': 'Japan', 'Medium:': 'Hanging scroll; ink and color on silk', 'Dimensions:': '48 1/2 x 23 1/8 in. (123.2 x 58.7 cm)'}\n",
      "{'': '楊柳観音菩薩像 (Yōryū Kannon Bosatsu zō)', 'Title:': 'The Bodhisattva Willow Kannon (Avalokiteshvara)', 'Artist:': 'Style of Wu Daozi (Chinese, 689–after 755)', 'Period:': 'Meiji period (1868–1912)', 'Date:': 'late 19th century', 'Culture:': 'Japan', 'Medium:': 'Hanging scroll; ink and color on silk', 'Dimensions:': '48 1/2 x 23 1/8 in. (123.2 x 58.7 cm)', 'Classification:': 'Paintings'}\n",
      "{'': '楊柳観音菩薩像 (Yōryū Kannon Bosatsu zō)', 'Title:': 'The Bodhisattva Willow Kannon (Avalokiteshvara)', 'Artist:': 'Style of Wu Daozi (Chinese, 689–after 755)', 'Period:': 'Meiji period (1868–1912)', 'Date:': 'late 19th century', 'Culture:': 'Japan', 'Medium:': 'Hanging scroll; ink and color on silk', 'Dimensions:': '48 1/2 x 23 1/8 in. (123.2 x 58.7 cm)', 'Classification:': 'Paintings', 'Credit Line:': 'H. O. Havemeyer Collection, Bequest of Mrs. H. O. Havemeyer, 1929'}\n",
      "{'': '楊柳観音菩薩像 (Yōryū Kannon Bosatsu zō)', 'Title:': 'The Bodhisattva Willow Kannon (Avalokiteshvara)', 'Artist:': 'Style of Wu Daozi (Chinese, 689–after 755)', 'Period:': 'Meiji period (1868–1912)', 'Date:': 'late 19th century', 'Culture:': 'Japan', 'Medium:': 'Hanging scroll; ink and color on silk', 'Dimensions:': '48 1/2 x 23 1/8 in. (123.2 x 58.7 cm)', 'Classification:': 'Paintings', 'Credit Line:': 'H. O. Havemeyer Collection, Bequest of Mrs. H. O. Havemeyer, 1929', 'Accession Number:': '29.100.439'}\n"
     ]
    }
   ],
   "source": [
    "dict1 = {}\n",
    "span_title = []\n",
    "for i in span_label:\n",
    "    span_title.append(i.text)\n",
    "if (len(span_value) == len(span_title)):\n",
    "    print(\"OKAY\")\n",
    "else:\n",
    "    span_title.insert(0,'')\n",
    "for k in range(len(span_value)):\n",
    "        dict1[span_title[k]] = span_value[k].text"
   ]
  },
  {
   "cell_type": "code",
   "execution_count": 320,
   "id": "ee5a5e93",
   "metadata": {},
   "outputs": [
    {
     "data": {
      "text/plain": [
       "{'': '楊柳観音菩薩像 (Yōryū Kannon Bosatsu zō)',\n",
       " 'Title:': 'The Bodhisattva Willow Kannon (Avalokiteshvara)',\n",
       " 'Artist:': 'Style of Wu Daozi (Chinese, 689–after 755)',\n",
       " 'Period:': 'Meiji period (1868–1912)',\n",
       " 'Date:': 'late 19th century',\n",
       " 'Culture:': 'Japan',\n",
       " 'Medium:': 'Hanging scroll; ink and color on silk',\n",
       " 'Dimensions:': '48 1/2 x 23 1/8 in. (123.2 x 58.7 cm)',\n",
       " 'Classification:': 'Paintings',\n",
       " 'Credit Line:': 'H. O. Havemeyer Collection, Bequest of Mrs. H. O. Havemeyer, 1929',\n",
       " 'Accession Number:': '29.100.439'}"
      ]
     },
     "execution_count": 320,
     "metadata": {},
     "output_type": "execute_result"
    }
   ],
   "source": [
    "dict1"
   ]
  },
  {
   "cell_type": "code",
   "execution_count": 227,
   "id": "5150d725",
   "metadata": {},
   "outputs": [
    {
     "data": {
      "text/plain": [
       "'Date:'"
      ]
     },
     "execution_count": 227,
     "metadata": {},
     "output_type": "execute_result"
    }
   ],
   "source": [
    "span_label[3].text"
   ]
  },
  {
   "cell_type": "code",
   "execution_count": 312,
   "id": "ee7b0866",
   "metadata": {},
   "outputs": [
    {
     "data": {
      "text/plain": [
       "['',\n",
       " <span class=\"artwork-tombstone--label\">Title:</span>,\n",
       " <span class=\"artwork-tombstone--label\">Artist:</span>,\n",
       " <span class=\"artwork-tombstone--label\">Period:</span>,\n",
       " <span class=\"artwork-tombstone--label\">Date:</span>,\n",
       " <span class=\"artwork-tombstone--label\">Culture:</span>,\n",
       " <span class=\"artwork-tombstone--label\">Medium:</span>,\n",
       " <span class=\"artwork-tombstone--label\">Dimensions:</span>,\n",
       " <span class=\"artwork-tombstone--label\">Classification:</span>,\n",
       " <span class=\"artwork-tombstone--label\">Credit Line:</span>,\n",
       " <span class=\"artwork-tombstone--label\">Accession Number:</span>]"
      ]
     },
     "execution_count": 312,
     "metadata": {},
     "output_type": "execute_result"
    }
   ],
   "source": [
    "span_label"
   ]
  },
  {
   "cell_type": "code",
   "execution_count": 289,
   "id": "91ca200c",
   "metadata": {},
   "outputs": [
    {
     "name": "stdout",
     "output_type": "stream",
     "text": [
      "0\n",
      "1\n",
      "2\n",
      "3\n",
      "4\n",
      "5\n",
      "6\n",
      "7\n",
      "8\n",
      "9\n",
      "10\n"
     ]
    }
   ],
   "source": [
    "for k in range(len(span_value)):\n",
    "    print(k)"
   ]
  },
  {
   "cell_type": "code",
   "execution_count": 234,
   "id": "87d41f20",
   "metadata": {},
   "outputs": [
    {
     "name": "stdout",
     "output_type": "stream",
     "text": [
      "\n",
      "楊柳観音菩薩像 (Yōryū Kannon Bosatsu zō)\n",
      "\n",
      "\n",
      "Title:\n",
      "The Bodhisattva Willow Kannon (Avalokiteshvara)\n",
      "\n",
      "\n",
      "Artist:\n",
      "Style of Wu Daozi (Chinese, 689–after 755)\n",
      "\n",
      "\n",
      "Period:\n",
      "Meiji period (1868–1912)\n",
      "\n",
      "\n",
      "Date:\n",
      "late 19th century\n",
      "\n",
      "\n",
      "Culture:\n",
      "Japan\n",
      "\n",
      "\n",
      "Medium:\n",
      "Hanging scroll; ink and color on silk\n",
      "\n",
      "\n",
      "Dimensions:\n",
      "48 1/2 x 23 1/8 in. (123.2 x 58.7 cm)\n",
      "\n",
      "\n",
      "Classification:\n",
      "Paintings\n",
      "\n",
      "\n",
      "Credit Line:\n",
      "H. O. Havemeyer Collection, Bequest of Mrs. H. O. Havemeyer, 1929\n",
      "\n",
      "\n",
      "Accession Number:\n",
      "29.100.439\n",
      "\n"
     ]
    }
   ],
   "source": [
    "for h in p:\n",
    "    print(h.text)"
   ]
  },
  {
   "cell_type": "code",
   "execution_count": null,
   "id": "c894a53b",
   "metadata": {},
   "outputs": [],
   "source": []
  }
 ],
 "metadata": {
  "kernelspec": {
   "display_name": "Python 3 (ipykernel)",
   "language": "python",
   "name": "python3"
  },
  "language_info": {
   "codemirror_mode": {
    "name": "ipython",
    "version": 3
   },
   "file_extension": ".py",
   "mimetype": "text/x-python",
   "name": "python",
   "nbconvert_exporter": "python",
   "pygments_lexer": "ipython3",
   "version": "3.9.12"
  }
 },
 "nbformat": 4,
 "nbformat_minor": 5
}
